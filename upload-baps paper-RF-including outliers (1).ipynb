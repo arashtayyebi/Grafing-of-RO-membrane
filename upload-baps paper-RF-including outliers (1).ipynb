{
 "cells": [
  {
   "cell_type": "code",
   "execution_count": 1,
   "id": "a213e2b1",
   "metadata": {},
   "outputs": [],
   "source": [
    "import xgboost as xgb\n",
    "import pandas as pd\n",
    "from rdkit import Chem\n",
    "from rdkit.Chem import AllChem\n",
    "import numpy as np\n",
    "import warnings\n",
    "warnings.filterwarnings(\"ignore\")\n",
    "import matplotlib.pyplot as plt\n",
    "%matplotlib inline\n",
    "from sklearn.preprocessing import StandardScaler, MinMaxScaler, MaxAbsScaler, RobustScaler, PowerTransformer, QuantileTransformer\n",
    "\n",
    "from sklearn.metrics import mean_squared_error, mean_absolute_error\n",
    "from sklearn.metrics import r2_score\n",
    "from rdkit import DataStructs, Chem\n",
    "from rdkit.Chem import AllChem\n",
    "#import shap\n",
    "from sklearn.model_selection import cross_validate\n",
    "from catboost import CatBoostRegressor\n",
    "from xgboost import XGBRegressor\n",
    "from sklearn import svm\n",
    "from sklearn.ensemble import RandomForestRegressor, ExtraTreesRegressor,AdaBoostRegressor,BaggingRegressor,ExtraTreesRegressor,GradientBoostingRegressor \n",
    "from sklearn.tree import DecisionTreeRegressor\n",
    "from sklearn.linear_model import Ridge,ARDRegression,BayesianRidge,ElasticNet,GammaRegressor,HuberRegressor\n",
    "from sklearn.linear_model import Lasso, LassoLars, LinearRegression, LogisticRegression, PassiveAggressiveRegressor,Ridge,SGDRegressor\n",
    "import gc\n",
    "import glob\n",
    "import os\n",
    "import random\n",
    "import time\n",
    "from datetime import date, datetime\n",
    "\n",
    "import joblib\n",
    "import matplotlib.pyplot as plt\n",
    "import numpy as np\n",
    "import pandas as pd\n",
    "#import shap\n",
    "from sklearn import model_selection\n",
    "from sklearn.metrics import accuracy_score, mean_squared_error\n",
    "from sklearn.model_selection import train_test_split\n",
    "from sklearn.preprocessing import LabelEncoder"
   ]
  },
  {
   "cell_type": "code",
   "execution_count": 2,
   "id": "92befd4a",
   "metadata": {},
   "outputs": [],
   "source": [
    "data = pd.read_excel('D:/python/rdkit/data2.xlsx')\n"
   ]
  },
  {
   "cell_type": "code",
   "execution_count": 3,
   "id": "30da2d3f",
   "metadata": {},
   "outputs": [
    {
     "name": "stdout",
     "output_type": "stream",
     "text": [
      "The dataset was augmented from 583 to 17523.\n"
     ]
    }
   ],
   "source": [
    "import random\n",
    "from rdkit import Chem\n",
    "aug_data = 300\n",
    "\n",
    "def randomize_smiles(mol, random_type=None, isomericSmiles=True):\n",
    "   \n",
    "    if random_type is None:\n",
    "        \n",
    "        random_type = np.random.choice(['unrestricted', 'restricted', 'rotated'])\n",
    "\n",
    "    if random_type == \"unrestricted\":\n",
    "        return Chem.MolToSmiles(mol, canonical=False, doRandom=True, isomericSmiles=isomericSmiles)\n",
    "    elif random_type == \"restricted\":\n",
    "        new_atom_order = list(range(mol.GetNumAtoms()))\n",
    "        random.shuffle(new_atom_order)\n",
    "        random_mol = Chem.RenumberAtoms(mol, newOrder=new_atom_order)\n",
    "        return Chem.MolToSmiles(random_mol, canonical=False, isomericSmiles=isomericSmiles)\n",
    "    elif random_type == 'rotated':\n",
    "        n_atoms = mol.GetNumAtoms()\n",
    "        rotation_index = random.randint(0, n_atoms-1)\n",
    "        atoms = list(range(n_atoms))\n",
    "        new_atoms_order = (atoms[rotation_index%len(atoms):]+atoms[:rotation_index%len(atoms)])\n",
    "        rotated_mol = Chem.RenumberAtoms(mol,new_atoms_order)\n",
    "        return Chem.MolToSmiles(rotated_mol, canonical=False, isomericSmiles=isomericSmiles)\n",
    "    raise ValueError(\"Type '{}' is not valid\".format(random_type))\n",
    "\n",
    "smiles = list(data[\"a-smile\"])\n",
    "solubilities = list(data[\"Permeability\"])\n",
    "smilesb = list(data[\"b-smile\"])\n",
    "\n",
    "aug_smiles=[]\n",
    "aug_solubilities=[]\n",
    "aug_smilesb=[]\n",
    "for sml, sol, sml2 in zip(smiles, solubilities, smilesb):\n",
    "    \n",
    "    new_smls = []\n",
    "    new_smls.append(sml)\n",
    "    aug_solubilities.append(sol)\n",
    "    aug_smilesb.append(sml2)\n",
    "    for _ in range(aug_data):\n",
    "        \n",
    "        try:\n",
    "            new_sml = randomize_smiles(Chem.MolFromSmiles(sml))\n",
    "            if new_sml not in new_smls:\n",
    "                new_smls.append(new_sml)\n",
    "                aug_solubilities.append(sol)\n",
    "                aug_smilesb.append(sml2)\n",
    "        except:     \n",
    "            continue\n",
    "    aug_smiles.extend(new_smls)\n",
    "\n",
    "aug_df_AqSolDB = pd.DataFrame(data={\n",
    "    \"SMILES\": aug_smiles,\n",
    "    \"Solubility\": aug_solubilities,\n",
    "    \"SMILESb\": aug_smilesb,\n",
    "})\n",
    "\n",
    "print(f\"The dataset was augmented from {len(data)} to {len(aug_df_AqSolDB)}.\")"
   ]
  },
  {
   "cell_type": "code",
   "execution_count": 4,
   "id": "51194c58",
   "metadata": {},
   "outputs": [
    {
     "data": {
      "text/html": [
       "<div>\n",
       "<style scoped>\n",
       "    .dataframe tbody tr th:only-of-type {\n",
       "        vertical-align: middle;\n",
       "    }\n",
       "\n",
       "    .dataframe tbody tr th {\n",
       "        vertical-align: top;\n",
       "    }\n",
       "\n",
       "    .dataframe thead th {\n",
       "        text-align: right;\n",
       "    }\n",
       "</style>\n",
       "<table border=\"1\" class=\"dataframe\">\n",
       "  <thead>\n",
       "    <tr style=\"text-align: right;\">\n",
       "      <th></th>\n",
       "      <th>SMILES</th>\n",
       "      <th>Solubility</th>\n",
       "      <th>SMILESb</th>\n",
       "    </tr>\n",
       "  </thead>\n",
       "  <tbody>\n",
       "    <tr>\n",
       "      <th>0</th>\n",
       "      <td>N1CCNCC1</td>\n",
       "      <td>7.5</td>\n",
       "      <td>C</td>\n",
       "    </tr>\n",
       "    <tr>\n",
       "      <th>1</th>\n",
       "      <td>C1CNCCN1</td>\n",
       "      <td>7.5</td>\n",
       "      <td>C</td>\n",
       "    </tr>\n",
       "    <tr>\n",
       "      <th>2</th>\n",
       "      <td>C1NCCNC1</td>\n",
       "      <td>7.5</td>\n",
       "      <td>C</td>\n",
       "    </tr>\n",
       "    <tr>\n",
       "      <th>3</th>\n",
       "      <td>N1CCNCC1</td>\n",
       "      <td>7.0</td>\n",
       "      <td>C</td>\n",
       "    </tr>\n",
       "    <tr>\n",
       "      <th>4</th>\n",
       "      <td>C1NCCNC1</td>\n",
       "      <td>7.0</td>\n",
       "      <td>C</td>\n",
       "    </tr>\n",
       "    <tr>\n",
       "      <th>...</th>\n",
       "      <td>...</td>\n",
       "      <td>...</td>\n",
       "      <td>...</td>\n",
       "    </tr>\n",
       "    <tr>\n",
       "      <th>17518</th>\n",
       "      <td>Oc1c(cc(C(=O)OCC2C(O)C(OC(=O)c3cc(O)c(O)c(O)c3...</td>\n",
       "      <td>12.0</td>\n",
       "      <td>C</td>\n",
       "    </tr>\n",
       "    <tr>\n",
       "      <th>17519</th>\n",
       "      <td>c1c(c(c(O)cc1C(OC1C(O)C(C(C(O1)COC(c1cc(O)c(O)...</td>\n",
       "      <td>12.0</td>\n",
       "      <td>C</td>\n",
       "    </tr>\n",
       "    <tr>\n",
       "      <th>17520</th>\n",
       "      <td>Oc1cc(C(OC2OC(COC(=O)c3cc(O)c(O)c(O)c3)C(O)C(O...</td>\n",
       "      <td>12.0</td>\n",
       "      <td>C</td>\n",
       "    </tr>\n",
       "    <tr>\n",
       "      <th>17521</th>\n",
       "      <td>O=C(c1cc(O)c(c(O)c1)O)OCC1C(C(OC(c2cc(O)c(c(O)...</td>\n",
       "      <td>12.0</td>\n",
       "      <td>C</td>\n",
       "    </tr>\n",
       "    <tr>\n",
       "      <th>17522</th>\n",
       "      <td>Oc1c(cc(cc1O)C(=O)OC1C(C(C(O)C(O1)COC(=O)c1cc(...</td>\n",
       "      <td>12.0</td>\n",
       "      <td>C</td>\n",
       "    </tr>\n",
       "  </tbody>\n",
       "</table>\n",
       "<p>17523 rows × 3 columns</p>\n",
       "</div>"
      ],
      "text/plain": [
       "                                                  SMILES  Solubility SMILESb\n",
       "0                                               N1CCNCC1         7.5       C\n",
       "1                                               C1CNCCN1         7.5       C\n",
       "2                                               C1NCCNC1         7.5       C\n",
       "3                                               N1CCNCC1         7.0       C\n",
       "4                                               C1NCCNC1         7.0       C\n",
       "...                                                  ...         ...     ...\n",
       "17518  Oc1c(cc(C(=O)OCC2C(O)C(OC(=O)c3cc(O)c(O)c(O)c3...        12.0       C\n",
       "17519  c1c(c(c(O)cc1C(OC1C(O)C(C(C(O1)COC(c1cc(O)c(O)...        12.0       C\n",
       "17520  Oc1cc(C(OC2OC(COC(=O)c3cc(O)c(O)c(O)c3)C(O)C(O...        12.0       C\n",
       "17521  O=C(c1cc(O)c(c(O)c1)O)OCC1C(C(OC(c2cc(O)c(c(O)...        12.0       C\n",
       "17522  Oc1c(cc(cc1O)C(=O)OC1C(C(C(O)C(O1)COC(=O)c1cc(...        12.0       C\n",
       "\n",
       "[17523 rows x 3 columns]"
      ]
     },
     "execution_count": 4,
     "metadata": {},
     "output_type": "execute_result"
    }
   ],
   "source": [
    "aug_df_AqSolDB"
   ]
  },
  {
   "cell_type": "code",
   "execution_count": 5,
   "id": "6de61b48",
   "metadata": {},
   "outputs": [],
   "source": [
    "class morgan_fp:\n",
    "    def __init__(self, radius, length):\n",
    "        self.radius = radius\n",
    "        self.length = length\n",
    "    def __call__(self, smiles):\n",
    "        mol = Chem.MolFromSmiles(smiles)\n",
    "        fp = AllChem.GetMorganFingerprintAsBitVect(mol, self.radius, 2048)\n",
    "        npfp = np.array(list(fp.ToBitString())).astype('float32')\n",
    "        return npfp"
   ]
  },
  {
   "cell_type": "code",
   "execution_count": 6,
   "id": "dd9f30d9",
   "metadata": {},
   "outputs": [],
   "source": [
    "fp = morgan_fp(0,2048)\n",
    "aug_df_AqSolDB['SMILES'] = aug_df_AqSolDB['SMILES'].apply(fp)\n",
    "#data['b-fp'] = data['b-smile'].apply(fp)"
   ]
  },
  {
   "cell_type": "code",
   "execution_count": 7,
   "id": "f9fb686b",
   "metadata": {},
   "outputs": [],
   "source": [
    "x_a=np.array(list(aug_df_AqSolDB['SMILES']))\n"
   ]
  },
  {
   "cell_type": "code",
   "execution_count": 8,
   "id": "3fcb951c",
   "metadata": {},
   "outputs": [
    {
     "data": {
      "text/plain": [
       "17523"
      ]
     },
     "execution_count": 8,
     "metadata": {},
     "output_type": "execute_result"
    }
   ],
   "source": [
    "len(x_a)"
   ]
  },
  {
   "cell_type": "code",
   "execution_count": 9,
   "id": "c225276e",
   "metadata": {},
   "outputs": [],
   "source": [
    "fp = morgan_fp(0,2048)\n",
    "aug_df_AqSolDB['SMILESb'] = aug_df_AqSolDB['SMILESb'].apply(fp)"
   ]
  },
  {
   "cell_type": "code",
   "execution_count": 10,
   "id": "6214adcf",
   "metadata": {},
   "outputs": [],
   "source": [
    "x_b=np.array(list(aug_df_AqSolDB['SMILESb']))"
   ]
  },
  {
   "cell_type": "code",
   "execution_count": 11,
   "id": "173fc104",
   "metadata": {},
   "outputs": [
    {
     "data": {
      "text/plain": [
       "17523"
      ]
     },
     "execution_count": 11,
     "metadata": {},
     "output_type": "execute_result"
    }
   ],
   "source": [
    "len(x_b)"
   ]
  },
  {
   "cell_type": "code",
   "execution_count": 12,
   "id": "2bb34bf1",
   "metadata": {},
   "outputs": [],
   "source": [
    "import numpy as np\n",
    "\n",
    "# Assuming x_a and x_b are already defined\n",
    "\n",
    "# Add the arrays element-wise\n",
    "result = x_a + x_b\n"
   ]
  },
  {
   "cell_type": "code",
   "execution_count": 13,
   "id": "e9987b29",
   "metadata": {},
   "outputs": [
    {
     "data": {
      "text/plain": [
       "17523"
      ]
     },
     "execution_count": 13,
     "metadata": {},
     "output_type": "execute_result"
    }
   ],
   "source": [
    "len(result)"
   ]
  },
  {
   "cell_type": "code",
   "execution_count": 14,
   "id": "e9021a57",
   "metadata": {},
   "outputs": [],
   "source": [
    "x=result"
   ]
  },
  {
   "cell_type": "code",
   "execution_count": null,
   "id": "c95ddd0f",
   "metadata": {},
   "outputs": [],
   "source": []
  },
  {
   "cell_type": "code",
   "execution_count": 15,
   "id": "ea937959",
   "metadata": {},
   "outputs": [
    {
     "data": {
      "text/plain": [
       "0         7.5\n",
       "1         7.5\n",
       "2         7.5\n",
       "3         7.0\n",
       "4         7.0\n",
       "         ... \n",
       "17518    12.0\n",
       "17519    12.0\n",
       "17520    12.0\n",
       "17521    12.0\n",
       "17522    12.0\n",
       "Name: Solubility, Length: 17523, dtype: float64"
      ]
     },
     "execution_count": 15,
     "metadata": {},
     "output_type": "execute_result"
    }
   ],
   "source": [
    "y = aug_df_AqSolDB.iloc[:,1]\n",
    "y"
   ]
  },
  {
   "cell_type": "code",
   "execution_count": 16,
   "id": "e1bba607",
   "metadata": {},
   "outputs": [],
   "source": [
    "import numpy as np\n",
    "\n",
    "from sklearn.model_selection import train_test_split\n",
    "X_train, X_test, Y_train, Y_test = train_test_split(x, y, test_size=0.2, random_state=42)"
   ]
  },
  {
   "cell_type": "code",
   "execution_count": 18,
   "id": "996fc884",
   "metadata": {},
   "outputs": [],
   "source": [
    "import catboost as cb\n",
    "import catboost as cb\n",
    "import numpy as np\n",
    "import pandas as pd\n",
    "import seaborn as sns\n",
    "#import shap\n",
    "#from matplotlib import pyplot as pltfrom sklearn.datasets \n",
    "from sklearn.model_selection import train_test_split\n",
    "from sklearn.metrics import mean_squared_error\n",
    "from sklearn.metrics import r2_score\n",
    "from sklearn.inspection import permutation_importance\n",
    "from catboost import CatBoostClassifier, FeaturesData"
   ]
  },
  {
   "cell_type": "code",
   "execution_count": 17,
   "id": "3e985bc1",
   "metadata": {},
   "outputs": [
    {
     "data": {
      "text/plain": [
       "RandomForestRegressor(random_state=42)"
      ]
     },
     "execution_count": 17,
     "metadata": {},
     "output_type": "execute_result"
    }
   ],
   "source": [
    "model2 = RandomForestRegressor(n_estimators=100, random_state=42)\n",
    "model2.fit(X_train, Y_train)"
   ]
  },
  {
   "cell_type": "code",
   "execution_count": 18,
   "id": "8edd229e",
   "metadata": {},
   "outputs": [
    {
     "name": "stdout",
     "output_type": "stream",
     "text": [
      "Mean squared error (MSE): 5.23\n",
      "Coefficient of determination (R^2): 0.48\n"
     ]
    }
   ],
   "source": [
    "Y_pred_train = model2.predict(X_train)\n",
    "#predicts the X_train\n",
    "#print('Coefficients:', model.coef_)\n",
    "#print('Intercept:', model.intercept_)\n",
    "print('Mean squared error (MSE): %.2f'\n",
    "      % mean_squared_error(Y_train, Y_pred_train,squared=False))\n",
    "print('Coefficient of determination (R^2): %.2f'\n",
    "      % r2_score(Y_train, Y_pred_train))"
   ]
  },
  {
   "cell_type": "code",
   "execution_count": 19,
   "id": "cc02d029",
   "metadata": {},
   "outputs": [
    {
     "name": "stdout",
     "output_type": "stream",
     "text": [
      "Mean squared error (MSE): 5.22\n",
      "Coefficient of determination (R^2): 0.47\n"
     ]
    }
   ],
   "source": [
    "Y_pred_test = model2.predict(X_test)\n",
    "print('Mean squared error (MSE): %.2f'\n",
    "      % mean_squared_error(Y_test, Y_pred_test,squared=False))\n",
    "print('Coefficient of determination (R^2): %.2f'\n",
    "      % r2_score(Y_test, Y_pred_test))"
   ]
  },
  {
   "cell_type": "code",
   "execution_count": 20,
   "id": "d2e03162",
   "metadata": {},
   "outputs": [
    {
     "data": {
      "text/plain": [
       "3.718931554483071"
      ]
     },
     "execution_count": 20,
     "metadata": {},
     "output_type": "execute_result"
    }
   ],
   "source": [
    "mae = mean_absolute_error(Y_test, Y_pred_test)\n",
    "mae"
   ]
  },
  {
   "cell_type": "code",
   "execution_count": 21,
   "id": "50868f07",
   "metadata": {},
   "outputs": [],
   "source": [
    "scaler = StandardScaler()\n",
    "x_scaled = scaler.fit_transform(x_a)\n",
    "from scipy.stats import zscore\n",
    "\n",
    "\n",
    "# Calculate Z-scores for each feature\n",
    "z_scores = zscore(x_scaled)\n",
    "\n",
    "# Define a threshold for Z-score to identify outliers\n",
    "threshold = 3\n",
    "\n",
    "# Identify outliers\n",
    "outliers = (abs(z_scores) > threshold).any(axis=1)\n",
    "\n",
    "# Remove outliers from the feature array and target variable\n",
    "x_no_outliers = x_a[~outliers]\n",
    "y_no_outliers = y[~outliers]\n",
    "\n",
    "# Now you can train your Random Forest model on x_no_outliers and y_no_outliers\n",
    "#model = RandomForestRegressor()\n",
    "#model.fit(x_no_outliers, y_no_outliers)"
   ]
  },
  {
   "cell_type": "code",
   "execution_count": 22,
   "id": "932456af",
   "metadata": {},
   "outputs": [
    {
     "name": "stdout",
     "output_type": "stream",
     "text": [
      "Mean squared error (MSE): 5.17\n",
      "Coefficient of determination (R^2): 0.51\n"
     ]
    }
   ],
   "source": [
    "from sklearn.metrics import mean_squared_error, r2_score\n",
    "from sklearn.ensemble import RandomForestRegressor\n",
    "from sklearn.model_selection import train_test_split\n",
    "\n",
    "# Assuming you have x_no_outliers and y_no_outliers from the previous code\n",
    "# Split the data into training and testing sets\n",
    "X_train, X_test, y_train, y_test = train_test_split(x_no_outliers, y_no_outliers, test_size=0.2, random_state=42)\n",
    "\n",
    "# Initialize and train your Random Forest model\n",
    "model = RandomForestRegressor(n_estimators=100, random_state=42)\n",
    "model.fit(X_train, y_train)\n",
    "\n",
    "# Make predictions on the test set\n",
    "y_pred_test = model.predict(X_test)\n",
    "\n",
    "\n",
    "print('Mean squared error (MSE): %.2f'\n",
    "      % mean_squared_error(y_test, y_pred_test,squared=False))\n",
    "print('Coefficient of determination (R^2): %.2f'\n",
    "      % r2_score(y_test, y_pred_test))\n",
    "# Calculate Mean Squared Error (MSE)\n",
    "#mse = mean_squared_error(y_test, y_pred)\n",
    "#print(\"Mean Squared Error (MSE):\", mse)\n",
    "\n",
    "# Calculate Coefficient of Determination (R^2)\n",
    "#r2 = r2_score(y_test, y_pred)\n",
    "#print(\"Coefficient of Determination (R^2):\", r2)\n"
   ]
  },
  {
   "cell_type": "code",
   "execution_count": 24,
   "id": "31d5c9da",
   "metadata": {},
   "outputs": [
    {
     "data": {
      "text/plain": [
       "12855"
      ]
     },
     "execution_count": 24,
     "metadata": {},
     "output_type": "execute_result"
    }
   ],
   "source": [
    "len(x_no_outliers)"
   ]
  },
  {
   "cell_type": "code",
   "execution_count": 23,
   "id": "ac6ad150",
   "metadata": {},
   "outputs": [
    {
     "data": {
      "text/plain": [
       "3.7598800906247662"
      ]
     },
     "execution_count": 23,
     "metadata": {},
     "output_type": "execute_result"
    }
   ],
   "source": [
    "mae = mean_absolute_error(y_test, y_pred_test)\n",
    "mae"
   ]
  },
  {
   "cell_type": "code",
   "execution_count": null,
   "id": "1274138e",
   "metadata": {},
   "outputs": [],
   "source": []
  },
  {
   "cell_type": "code",
   "execution_count": null,
   "id": "f0662110",
   "metadata": {},
   "outputs": [],
   "source": []
  },
  {
   "cell_type": "code",
   "execution_count": null,
   "id": "62138844",
   "metadata": {},
   "outputs": [],
   "source": []
  },
  {
   "cell_type": "code",
   "execution_count": null,
   "id": "019f7958",
   "metadata": {},
   "outputs": [],
   "source": []
  },
  {
   "cell_type": "code",
   "execution_count": null,
   "id": "5da8f8c4",
   "metadata": {},
   "outputs": [],
   "source": []
  },
  {
   "cell_type": "code",
   "execution_count": null,
   "id": "399ea62f",
   "metadata": {},
   "outputs": [],
   "source": []
  }
 ],
 "metadata": {
  "kernelspec": {
   "display_name": "Python 3 (ipykernel)",
   "language": "python",
   "name": "python3"
  },
  "language_info": {
   "codemirror_mode": {
    "name": "ipython",
    "version": 3
   },
   "file_extension": ".py",
   "mimetype": "text/x-python",
   "name": "python",
   "nbconvert_exporter": "python",
   "pygments_lexer": "ipython3",
   "version": "3.9.12"
  }
 },
 "nbformat": 4,
 "nbformat_minor": 5
}
